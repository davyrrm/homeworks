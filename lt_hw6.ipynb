{
 "cells": [
  {
   "cell_type": "markdown",
   "id": "8244713e-6781-4396-9fc7-0ef506ce7dbe",
   "metadata": {},
   "source": [
    "#### Задача 1. \n",
    "\n",
    "Напишите функцию, которая будет принимать числа от 1 до 10 и заменять их на слова: 1 = один, 2 = два и т.п. "
   ]
  },
  {
   "cell_type": "code",
   "execution_count": null,
   "id": "2fb5eda9-87d1-49f0-a5e7-9e696e2383fa",
   "metadata": {},
   "outputs": [],
   "source": [
    "def number_to_word(n):\n",
    "    numbers_dict = {\n",
    "        1: \"один\",\n",
    "        2: \"два\",\n",
    "        3: \"три\",\n",
    "        4: \"четыре\",\n",
    "        5: \"пять\",\n",
    "        6: \"шесть\",\n",
    "        7: \"семь\",\n",
    "        8: \"восемь\",\n",
    "        9: \"девять\",\n",
    "        10: \"десять\"\n",
    "    }\n",
    "    \n",
    "    return numbers_dict.get(n, \"Число\")"
   ]
  },
  {
   "cell_type": "markdown",
   "id": "a5381142-76f6-4aba-bc51-558a8ebac5d2",
   "metadata": {},
   "source": [
    "#### Задача 2. \n",
    "\n",
    "Скрэмбл. Пользователь вводит две строки (в каждой строке какое-то слово). Напишите функцию, которая будет проверять, что из букв строки 1 можно составить слово в строке 2, причем количество букв тоже нужно учитывать: нельзя составить слово \"мама\" из слова \"марокко\". Функция должна возвращать True или False. Вам помогут какие-то словари. "
   ]
  },
  {
   "cell_type": "code",
   "execution_count": null,
   "id": "72f8e723-f3a8-49ef-a72b-050056689c1e",
   "metadata": {},
   "outputs": [],
   "source": [
    "def construct(source, target):\n",
    "    def count_chars(word):\n",
    "        char_count = {}\n",
    "        for char in word:\n",
    "            char_count[char] = char_count.get(char, 0) + 1\n",
    "        return char_count\n",
    "    \n",
    "    source_count = count_chars(source)\n",
    "    target_count = count_chars(target)\n",
    "    \n",
    "    for char, count in target_count.items():\n",
    "        if source_count.get(char, 0) < count:\n",
    "            return False\n",
    "    \n",
    "    return True\n"
   ]
  },
  {
   "cell_type": "markdown",
   "id": "1264e9d8-f434-42a1-876b-0968047ba244",
   "metadata": {},
   "source": [
    "#### Задача 3.\n",
    "\n",
    "Выборы в США (http://pythontutor.ru/lessons/dicts/problems/usa_elections/ - советую посмотреть там (на сайте нужно зарегистрироваться), там можно найти примеры работы программы).\n",
    "\n",
    "Как известно, в США президент выбирается не прямым голосованием, а путем двухуровневого голосования. Сначала проводятся выборы в каждом штате и определяется победитель выборов в данном штате. Затем проводятся государственные выборы: на этих выборах каждый штат имеет определенное число голосов — число выборщиков от этого штата. На практике, все выборщики от штата голосуют в соответствии с результами голосования внутри штата, то есть на заключительной стадии выборов в голосовании участвуют штаты, имеющие различное число голосов.\n",
    "\n",
    "В первой строке дано количество записей. Далее, каждая запись содержит фамилию кандидата и число голосов, отданных за него в одном из штатов. Подведите итоги выборов: для каждого из участника голосования определите число отданных за него голосов. Участников нужно выводить в алфавитном порядке."
   ]
  },
  {
   "cell_type": "code",
   "execution_count": null,
   "id": "c5b5af16",
   "metadata": {},
   "outputs": [],
   "source": [
    "data = [\n",
    "    \"McCain 10\",\n",
    "    \"McCain 5\",\n",
    "    \"Obama 9\",\n",
    "    \"Obama 8\",\n",
    "    \"McCain 1\"\n",
    "]\n",
    "\n",
    "votes = {}\n",
    "\n",
    "for entry in data:\n",
    "    candidate, vote_count = entry.split()\n",
    "    vote_count = int(vote_count)\n",
    "    \n",
    "    if candidate in votes:\n",
    "        votes[candidate] += vote_count\n",
    "    else:\n",
    "        votes[candidate] = vote_count\n",
    "\n",
    "for candidate in sorted(votes.keys()):\n",
    "    print(candidate, votes[candidate])"
   ]
  },
  {
   "cell_type": "markdown",
   "id": "47ef9a87-3b8c-4a81-bc51-78a044b9ecc6",
   "metadata": {},
   "source": [
    "#### Задача 4.\n",
    "\n",
    "Продажи (http://pythontutor.ru/lessons/dicts/problems/sales/)\n",
    "\n",
    "Дана база данных о продажах некоторого интернет-магазина. Каждая строка входного файла представляет собой запись вида Покупатель товар количество, где Покупатель — имя покупателя (строка без пробелов), товар — название товара (строка без пробелов), количество — количество приобретенных единиц товара.\n",
    "\n",
    "Создайте список всех покупателей, а для каждого покупателя подсчитайте количество приобретенных им единиц каждого вида товаров. Список покупателей, а также список товаров для каждого покупателя нужно выводить в лексикографическом порядке."
   ]
  },
  {
   "cell_type": "code",
   "execution_count": null,
   "id": "3a499976-1283-4724-b9af-2b4c5cf54550",
   "metadata": {},
   "outputs": [],
   "source": [
    "from collections import defaultdict\n",
    "\n",
    "def process_purchases(records):\n",
    "    data = defaultdict(lambda: defaultdict(int))\n",
    "    \n",
    "    for buyer, product, quantity in records:\n",
    "        data[buyer][product] += quantity\n",
    "    \n",
    "    for buyer in sorted(data.keys()):\n",
    "        print(buyer + \":\")\n",
    "        for product, quantity in sorted(data[buyer].items()):\n",
    "            print(product, quantity)\n",
    "\n",
    "records = [\n",
    "    (\"Ivanov\", \"paper\", 10),\n",
    "    (\"Petrov\", \"pens\", 5),\n",
    "    (\"Ivanov\", \"marker\", 3),\n",
    "    (\"Ivanov\", \"paper\", 7),\n",
    "    (\"Petrov\", \"envelope\", 20),\n",
    "    (\"Ivanov\", \"envelope\", 5)\n",
    "]\n",
    "\n",
    "process_purchases(records)"
   ]
  }
 ],
 "metadata": {
  "kernelspec": {
   "display_name": "Python 3 (ipykernel)",
   "language": "python",
   "name": "python3"
  },
  "language_info": {
   "codemirror_mode": {
    "name": "ipython",
    "version": 3
   },
   "file_extension": ".py",
   "mimetype": "text/x-python",
   "name": "python",
   "nbconvert_exporter": "python",
   "pygments_lexer": "ipython3",
   "version": "3.9.12"
  }
 },
 "nbformat": 4,
 "nbformat_minor": 5
}
