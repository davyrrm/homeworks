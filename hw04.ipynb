{
 "cells": [
  {
   "cell_type": "markdown",
   "id": "6bad6b38-eca0-4cfc-ac6a-2723a3cbb50a",
   "metadata": {},
   "source": [
    "#### Задача 1. \n",
    "\n",
    "Ученики одной школы все знают хотя бы по одному языку. Программа получает число школьников, а потом в цикле for собирает сведения о их языках, н-р:\n",
    "\n",
    "    2\n",
    "    English Bulgarian\n",
    "    English Romanian\n",
    "    \n",
    "Нужно узнать, какие языки знает хотя бы один школьник и какие языки знают все школьники."
   ]
  },
  {
   "cell_type": "code",
   "execution_count": 9,
   "id": "660eafc9-7667-441a-954e-a3617941bdfd",
   "metadata": {},
   "outputs": [
    {
     "name": "stdout",
     "output_type": "stream",
     "text": [
      "\n",
      "Языки, которые знает хотя бы один школьник:\n",
      "English\n",
      "French\n",
      "Spanish\n",
      "\n",
      "Языки, которые знают все школьники:\n",
      "Spanish\n"
     ]
    }
   ],
   "source": [
    "n = int(input())\n",
    "any_language = set()\n",
    "\n",
    "all_language = set(input().split())\n",
    "any_language.update(all_language)\n",
    "\n",
    "for _ in range(n - 1):\n",
    "    current_languages = set(input().split())\n",
    "    \n",
    "    any_language.update(current_languages)\n",
    "    \n",
    "    all_language &= current_languages\n",
    "\n",
    "print(\"\\nЯзыки, которые знает хотя бы один школьник:\")\n",
    "for language in sorted(any_language):\n",
    "    print(language)\n",
    "\n",
    "print(\"\\nЯзыки, которые знают все школьники:\")\n",
    "for language in sorted(all_language):\n",
    "    print(language)\n"
   ]
  },
  {
   "cell_type": "markdown",
   "id": "359818d1-46c4-43c1-b9c6-719cd83c06a7",
   "metadata": {},
   "source": [
    "#### Задача 2. \n",
    "\n",
    "Напишите функцию, которая будет принимать строку, в которой содержится любой текст (положим, русскоязычный), и возвращать список, содержащий только слова (для удаления пунктуации можно воспользоваться punctuation из модуля string, если хочется). Если умеете пользоваться регулярками - можно использовать регулярки. \n",
    "\n",
    "Посчитайте частотный список слов для текста в этой строке. "
   ]
  },
  {
   "cell_type": "code",
   "execution_count": null,
   "id": "37a6a911-03c9-4fdb-960e-644cfbf55a13",
   "metadata": {},
   "outputs": [
    {
     "name": "stdout",
     "output_type": "stream",
     "text": [
      "['Привет', 'Когда', 'сотку', 'вернёшь']\n",
      "Counter({'Привет': 1, 'Когда': 1, 'сотку': 1, 'вернёшь': 1})\n"
     ]
    }
   ],
   "source": [
    "import re\n",
    "from collections import Counter\n",
    "\n",
    "def extract_words(text):\n",
    "    words = re.findall(r'\\b\\w+\\b', text)\n",
    "    return words\n",
    "\n",
    "def word_frequency(text):\n",
    "    words = extract_words(text)\n",
    "    return Counter(words)\n",
    "\n",
    "text = \"Привет! Когда сотку вернёшь?\"\n",
    "print(extract_words(text))\n",
    "print(word_frequency(text))\n"
   ]
  },
  {
   "cell_type": "markdown",
   "id": "552bc43b-804b-41d3-a482-35ad54f36e06",
   "metadata": {},
   "source": [
    "#### Задача 3. \n",
    "\n",
    "Положим, у нас есть список со вложенными списками (глубина вложенности может быть какая угодно: это может быть список списков списков...). Напишите функцию, которая будет рекурсивно обходить все элементы в этих списках и посчитает, сколько всего встретилось уникальных элементов. Считаем, что эти элементы - целые числа (вам понадобится проверять type(x) == int). "
   ]
  },
  {
   "cell_type": "code",
   "execution_count": null,
   "id": "e2059e5b-4491-412f-be9f-ebf3192278d9",
   "metadata": {},
   "outputs": [
    {
     "name": "stdout",
     "output_type": "stream",
     "text": [
      "10\n"
     ]
    }
   ],
   "source": [
    "def count_unique_elements(lst, unique_elements=None):\n",
    "    if unique_elements is None:\n",
    "        unique_elements = set()\n",
    "        \n",
    "    for item in lst:\n",
    "        if type(item) == int:\n",
    "            unique_elements.add(item)\n",
    "        elif type(item) == list:\n",
    "            count_unique_elements(item, unique_elements)\n",
    "    \n",
    "    return len(unique_elements)\n",
    "\n",
    "lst = [1, 2, [3, 4, [5, 6], 4], 3, [1, 7], 8, [9, [10]]]\n",
    "print(count_unique_elements(lst)) \n"
   ]
  },
  {
   "cell_type": "markdown",
   "id": "be46c202-8887-4cdb-a6c2-acd40c86403f",
   "metadata": {},
   "source": [
    "#### Задача 4. \n",
    "\n",
    "Напишите функцию для сложения матриц."
   ]
  },
  {
   "cell_type": "code",
   "execution_count": null,
   "id": "c5043381-10a6-4562-860c-0ff22d51c0db",
   "metadata": {},
   "outputs": [
    {
     "name": "stdout",
     "output_type": "stream",
     "text": [
      "[10, 10, 10]\n",
      "[10, 10, 10]\n",
      "[10, 10, 10]\n"
     ]
    }
   ],
   "source": [
    "def add_matrices(matrix1, matrix2):\n",
    "    if len(matrix1) != len(matrix2) or len(matrix1[0]) != len(matrix2[0]):\n",
    "        raise ValueError(\"Матрицы разных размеров не могут быть сложены!\")\n",
    "\n",
    "    result = []\n",
    "    for i in range(len(matrix1)):\n",
    "        row = []\n",
    "        for j in range(len(matrix1[0])):\n",
    "            row.append(matrix1[i][j] + matrix2[i][j])\n",
    "        result.append(row)\n",
    "    \n",
    "    return result\n",
    "\n",
    "matrix1 = [[1, 2, 3], [4, 5, 6], [7, 8, 9]]\n",
    "matrix2 = [[9, 8, 7], [6, 5, 4], [3, 2, 1]]\n",
    "\n",
    "result = add_matrices(matrix1, matrix2)\n",
    "for row in result:\n",
    "    print(row)"
   ]
  },
  {
   "cell_type": "markdown",
   "id": "10fcf684-2ee1-4342-9c0a-1c959a473320",
   "metadata": {},
   "source": [
    "#### Задача 5. \n",
    "\n",
    "Напишите функцию для умножения матриц."
   ]
  },
  {
   "cell_type": "code",
   "execution_count": null,
   "id": "8b95b0a2-93c8-4a76-9795-9702a584aa94",
   "metadata": {},
   "outputs": [
    {
     "name": "stdout",
     "output_type": "stream",
     "text": [
      "[58, 64]\n",
      "[139, 154]\n"
     ]
    }
   ],
   "source": [
    "def multiply_matrices(matrix1, matrix2):\n",
    "    if len(matrix1[0]) != len(matrix2):\n",
    "        raise ValueError(\"Число столбцов первой матрицы должно равняться числу строк второй матрицы!\")\n",
    "\n",
    "    result = []\n",
    "    for i in range(len(matrix1)):\n",
    "        row = []\n",
    "        for j in range(len(matrix2[0])):\n",
    "            sum_val = sum(matrix1[i][k] * matrix2[k][j] for k in range(len(matrix2)))\n",
    "            row.append(sum_val)\n",
    "        result.append(row)\n",
    "    \n",
    "    return result\n",
    "\n",
    "matrix1 = [[1, 2, 3], [4, 5, 6]]\n",
    "matrix2 = [[7, 8], [9, 10], [11, 12]]\n",
    "\n",
    "result = multiply_matrices(matrix1, matrix2)\n",
    "for row in result:\n",
    "    print(row)"
   ]
  },
  {
   "cell_type": "markdown",
   "id": "1f145040-6a4e-44e5-a0f0-99d76a8f5413",
   "metadata": {},
   "source": [
    "#### Задача 6. \n",
    "\n",
    "Напишите функцию, которая генерирует [матрицу сдвига](https://ru.wikipedia.org/wiki/%D0%9C%D0%B0%D1%82%D1%80%D0%B8%D1%86%D0%B0_%D1%81%D0%B4%D0%B2%D0%B8%D0%B3%D0%B0). У функции должно быть два параметра: n (размер матрицы) и bias (на сколько столбцов сдвигать)."
   ]
  },
  {
   "cell_type": "code",
   "execution_count": null,
   "id": "4ba92bad-1317-443f-b737-41ee396c4c7e",
   "metadata": {},
   "outputs": [
    {
     "name": "stdout",
     "output_type": "stream",
     "text": [
      "[0, 0, 1, 0, 0]\n",
      "[0, 0, 0, 1, 0]\n",
      "[0, 0, 0, 0, 1]\n",
      "[0, 0, 0, 0, 0]\n",
      "[0, 0, 0, 0, 0]\n"
     ]
    }
   ],
   "source": [
    "def generate_shift_matrix(n, bias):\n",
    "    matrix = [[0 for _ in range(n)] for _ in range(n)]\n",
    "    \n",
    "    for i in range(n):\n",
    "        col_index = i + bias\n",
    "        if 0 <= col_index < n:\n",
    "            matrix[i][col_index] = 1\n",
    "    \n",
    "    return matrix\n",
    "\n",
    "n = 5\n",
    "bias = 2\n",
    "matrix = generate_shift_matrix(n, bias)\n",
    "for row in matrix:\n",
    "    print(row)\n"
   ]
  },
  {
   "cell_type": "markdown",
   "id": "bbe7efcb-ae28-40ad-935e-b7f231207779",
   "metadata": {},
   "source": [
    "#### Задача 7. \n",
    "\n",
    "Напишите функцию transpose(m), которая будет транспонировать матрицу."
   ]
  },
  {
   "cell_type": "code",
   "execution_count": null,
   "id": "445846ac-fe77-40f3-92cc-d3e5f719a47e",
   "metadata": {},
   "outputs": [
    {
     "name": "stdout",
     "output_type": "stream",
     "text": [
      "[1, 4, 7]\n",
      "[2, 5, 8]\n",
      "[3, 6, 9]\n"
     ]
    }
   ],
   "source": [
    "def transpose(m):\n",
    "    return [[row[i] for row in m] for i in range(len(m[0]))]\n",
    "\n",
    "matrix = [\n",
    "    [1, 2, 3],\n",
    "    [4, 5, 6],\n",
    "    [7, 8, 9]\n",
    "]\n",
    "\n",
    "transposed_matrix = transpose(matrix)\n",
    "for row in transposed_matrix:\n",
    "    print(row)\n"
   ]
  },
  {
   "cell_type": "markdown",
   "id": "5bc74489-65ad-4854-a223-d22b2fd6e64d",
   "metadata": {},
   "source": [
    "#### Задача 8 (\\*). \n",
    "\n",
    "Жизнь. Напишите игру \"Жизнь\". Что это такое - читайте в википедии и здесь: http://www.michurin.net/online-tools/life-game.html \n",
    "\n",
    "Вообще говоря, это не игра в привычном понимании этого слова, а процесс. В простейшем виде достаточно раз в 0.1 секунды выводить на экран обновлённое поле (обновлять консоль можно с помощью команды os.clear('cls'), модуль os. Для macOS может немного отличаться, погуглите). Для рамочек можно использовать специальные символы для рисования рамочек (найдите в таблице unicode). Пробел - пустая клетка, живая клетка может быть обозначена, например, символом '+'. Начальное поле генерируется случайным образом, вероятность появления жизни в клетке при начальной генерации - должна быть настраиваемым параметром. Размеры поля вводит пользователь при запуске программы. Также должна быть возможность в качестве начальной популяции использовать [R-pentomino](http://www.conwaylife.com/wiki/R-pentomino)."
   ]
  },
  {
   "cell_type": "markdown",
   "id": "a52faff1-12e5-4ae9-97d2-698f9862e58a",
   "metadata": {},
   "source": [
    "#### Задача 9. \n",
    "\n",
    "Рекурсивная генерация последовательностей На вход программе задается два числа N и K. Напечатайте все последовательности длины N, на каждом месте в последовательности может стоять любое число от 1 до K, но нигде подряд не стоит двух одинаковых чисел. Программа должна напечатать все такие последовательности в лексикографическом порядке. Каждая последовательность должна быть напечатана на отдельной строке. Числа в последовательности должны разделяться пробелами.\n",
    "\n",
    "Пример входных данных:\n",
    "\n",
    "    4 3\n",
    "\n",
    "Пример выходных данных:\n",
    "\n",
    "    1 2 1 2\n",
    "    1 2 1 3\n",
    "    1 2 3 1\n",
    "    1 2 3 2\n",
    "    1 3 1 2\n",
    "    1 3 1 3\n",
    "    1 3 2 1\n",
    "    1 3 2 3\n",
    "    2 1 2 1\n",
    "    2 1 2 3\n",
    "    2 1 3 1\n",
    "    2 1 3 2\n",
    "    2 3 1 2\n",
    "    2 3 1 3\n",
    "    2 3 2 1\n",
    "    2 3 2 3\n",
    "    3 1 2 1\n",
    "    3 1 2 3\n",
    "    3 1 3 1\n",
    "    3 1 3 2\n",
    "    3 2 1 2\n",
    "    3 2 1 3\n",
    "    3 2 3 1\n",
    "    3 2 3 2"
   ]
  },
  {
   "cell_type": "code",
   "execution_count": null,
   "id": "6bf0d84f-a7e1-4749-af82-2e7cc0a93a51",
   "metadata": {},
   "outputs": [
    {
     "name": "stdout",
     "output_type": "stream",
     "text": [
      "1 2\n",
      "1 3\n",
      "1 4\n",
      "2 1\n",
      "2 3\n",
      "2 4\n",
      "3 1\n",
      "3 2\n",
      "3 4\n",
      "4 1\n",
      "4 2\n",
      "4 3\n"
     ]
    }
   ],
   "source": [
    "def generate_sequences(sequence, N, K):\n",
    "    if len(sequence) == N:\n",
    "        print(' '.join(map(str, sequence)))\n",
    "        return\n",
    "\n",
    "    for next_value in range(1, K + 1):\n",
    "        if not sequence or sequence[-1] != next_value:\n",
    "            generate_sequences(sequence + [next_value], N, K)\n",
    "\n",
    "N, K = map(int, input(\"Введите N и K, разделенные пробелом: \").split())\n",
    "generate_sequences([], N, K)\n",
    "\n"
   ]
  }
 ],
 "metadata": {
  "kernelspec": {
   "display_name": "Python 3 (ipykernel)",
   "language": "python",
   "name": "python3"
  },
  "language_info": {
   "codemirror_mode": {
    "name": "ipython",
    "version": 3
   },
   "file_extension": ".py",
   "mimetype": "text/x-python",
   "name": "python",
   "nbconvert_exporter": "python",
   "pygments_lexer": "ipython3",
   "version": "3.9.12"
  }
 },
 "nbformat": 4,
 "nbformat_minor": 5
}
