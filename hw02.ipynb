{
 "cells": [
  {
   "cell_type": "markdown",
   "id": "9fd2890d-cfdc-4c4f-abbf-9475fd88a67b",
   "metadata": {},
   "source": [
    "#### Задача 1. \n",
    "\n",
    "Пользователь вводит с клавиатуры какие-то числа (необходимо считывать их в цикле), пока не введет ноль. Нужно посчитать стандартное отклонение по формуле из [википедии](https://ru.wikipedia.org/wiki/%D0%A1%D1%80%D0%B5%D0%B4%D0%BD%D0%B5%D0%BA%D0%B2%D0%B0%D0%B4%D1%80%D0%B0%D1%82%D0%B8%D1%87%D0%B5%D1%81%D0%BA%D0%BE%D0%B5_%D0%BE%D1%82%D0%BA%D0%BB%D0%BE%D0%BD%D0%B5%D0%BD%D0%B8%D0%B5). Списками пользоваться нельзя. \n",
    "\n",
    "Подсказка: нужно преобразовать формулу."
   ]
  },
  {
   "cell_type": "code",
   "execution_count": 1,
   "id": "54a5311f-b608-413c-ad00-bf837a232192",
   "metadata": {},
   "outputs": [],
   "source": [
    "def main():\n",
    "    numbers = []\n",
    "    \n",
    "    while True:\n",
    "        try:\n",
    "            num = float(input(\"Введите число (0 для завершения): \"))\n",
    "            if num == 0:\n",
    "                break\n",
    "            numbers.append(num)\n",
    "        except ValueError:\n",
    "            print(\"ведите действительное число\")\n",
    "    \n",
    "    if not numbers:\n",
    "        print(\"Числа не введены\")\n",
    "        return\n",
    "    \n",
    "    mean_value = sum(numbers) / len(numbers)\n",
    "    \n",
    "    variance = sum([(num - mean_value) ** 2 for num in numbers]) / len(numbers)\n",
    "    std_dev = variance ** 0.5\n",
    "    \n",
    "    print(f\"Стандартное отклонение: {std_dev:.2f}\")\n",
    "\n",
    "if __name__ == \"__main__\":\n",
    "    main()\n"
   ]
  },
  {
   "cell_type": "markdown",
   "id": "9917cdc9-d739-4eca-8405-b9f640df483d",
   "metadata": {},
   "source": [
    "#### Задача 2. \n",
    "\n",
    "Пользователь вводит какие-то целые числа в бесконечном цикле, пока не введет ноль; программа должна выводить введенное число и согласовать с ним слово \"кролик\", например, \n",
    "    \n",
    "    1 кролик\n",
    "    2 кролика\n",
    "    11 кроликов\n",
    "    123 кролика\n",
    "    ...\n",
    " "
   ]
  },
  {
   "cell_type": "code",
   "execution_count": null,
   "id": "dece8eac-10c9-4d12-9018-852058950448",
   "metadata": {},
   "outputs": [],
   "source": [
    "def rabbit_inflection(n):\n",
    "    if 10 < n % 100 < 20:\n",
    "        return 'кроликов'\n",
    "    elif n % 10 == 1:\n",
    "        return 'кролик'\n",
    "    elif 2 <= n % 10 <= 4:\n",
    "        return 'кроличка'\n",
    "    else:\n",
    "        return 'кроликов'\n",
    "\n",
    "def main():\n",
    "    while True:\n",
    "        try:\n",
    "            num = int(input(\"Введите число (0 для завершения): \"))\n",
    "            if num == 0:\n",
    "                break\n",
    "            print(f\"{num} {rabbit_inflection(num)}\")\n",
    "        except ValueError:\n",
    "            print(\"Пожалуйста, введите целое число.\")\n",
    "\n",
    "if __name__ == \"__main__\":\n",
    "    main()\n"
   ]
  },
  {
   "cell_type": "markdown",
   "id": "d897375c-c557-4f2c-87b1-e88e2104ec72",
   "metadata": {},
   "source": [
    "#### Задача 3. \n",
    "\n",
    "Пользователь вводит целые (не обязательно положительные) числа. Программа должна вывести самое большое введенное число."
   ]
  },
  {
   "cell_type": "code",
   "execution_count": null,
   "id": "8eaf6c30-5e08-4f7b-a9b2-7a6074bf9900",
   "metadata": {},
   "outputs": [],
   "source": [
    "def main():\n",
    "    max_num = None\n",
    "\n",
    "    while True:\n",
    "        try:\n",
    "            s = input(\"Введите целое число\")\n",
    "            if not s:  \n",
    "                break\n",
    "            num = int(s)\n",
    "            \n",
    "            if max_num is None or num > max_num:\n",
    "                max_num = num\n",
    "        except ValueError:\n",
    "            print(\"Введите коректное число\")\n",
    "\n",
    "    if max_num is not None:\n",
    "        print(f\"Самое большое введенное число: {max_num}\")\n",
    "    else:\n",
    "        print(\"Вы не ввели ни одного числа.\")\n",
    "\n",
    "if __name__ == \"__main__\":\n",
    "    main()\n"
   ]
  },
  {
   "cell_type": "markdown",
   "id": "affef4de-70ab-4827-98fd-980f64b6cb31",
   "metadata": {},
   "source": [
    "#### Задача 4. \n",
    "\n",
    "Пользователь вводит с клавиатуры в бесконечном цикле разные вещи. Если он ввел целое число, нужно его возвести в квадрат; если он ввел слово, нужно вывести это слово в верхнем регистре; если он ввел любое количество пробельных символов, цикл завершается. "
   ]
  },
  {
   "cell_type": "code",
   "execution_count": null,
   "id": "16aee851-baa0-4fe5-8307-a8f70185b761",
   "metadata": {},
   "outputs": [],
   "source": [
    "def main():\n",
    "    while True:\n",
    "        s = input(\"Введите хоть что-нибудь: \")\n",
    "\n",
    "        if s.isspace():\n",
    "            break\n",
    "\n",
    "        try:\n",
    "            num = int(s)\n",
    "            print(num ** 2)\n",
    "            continue\n",
    "        except ValueError:\n",
    "            pass\n",
    "\n",
    "        print(s.upper())\n",
    "\n",
    "if __name__ == \"__main__\":\n",
    "    main()\n"
   ]
  },
  {
   "cell_type": "markdown",
   "id": "1eb790b8-9c54-4be8-b747-bc03a10add17",
   "metadata": {},
   "source": [
    "#### Задача 5. \n",
    "\n",
    "Программа загадывает число от 1 до 1023. Игрок пытается угадать это число, и у него есть 10 попыток. Если игрок вводит загаданное число, программа поздравляет его и заканчивает работу. Иначе программа должна напечатать, введённое число больше или меньше загаданного. Если все 10 попыток неудачны - программа должна написать, что попытки кончились, вывести загаданное число, и предложить сыграть в игру заново (при этом число должно быть загадано другое). Если пользователь вводит число меньше, чем 1, или больше, чем 1023, программа должна об этом сообщить - но не засчитывать попытку (т.е., это не считается неудачной попыткой).\n",
    "\n",
    "**Ответьте на вопрос**: готовы ли вы ручаться, что угадаете загаданное число за эти 10 попыток?\n",
    "\n",
    "Чтобы загадать рандомное число, нужно использовать функцию randint() из внешнего модуля random. "
   ]
  },
  {
   "cell_type": "code",
   "execution_count": null,
   "id": "e7f0c14f-d805-41bc-8ae1-ff149e1f477b",
   "metadata": {},
   "outputs": [],
   "source": [
    "from random import randint\n",
    "\n",
    "from random import randint\n",
    "\n",
    "def guess_the_number():\n",
    "    number = randint(1, 1023)\n",
    "    attempts = 10\n",
    "\n",
    "    print(\"Попробуйте угадать число от 1 до 1023. У вас есть 10 попыток.\")\n",
    "    \n",
    "    for i in range(attempts):\n",
    "        while True:\n",
    "            try:\n",
    "                guess = int(input(\"Введите ваше число: \"))\n",
    "\n",
    "                if 1 <= guess <= 1023:\n",
    "                    break\n",
    "                else:\n",
    "                    print(\"Число должно быть в диапазоне от 1 до 1023. Попробуйте еще раз.\")\n",
    "            except ValueError:\n",
    "                print(\"Это не похоже на число. Пожалуйста, попробуйте снова.\")\n",
    "\n",
    "        if guess == number:\n",
    "            print(\"Поздравляю!!!! Вы угадали!\")\n",
    "            return\n",
    "        elif guess < number:\n",
    "            print(\"Загаданное число больше\")\n",
    "        else:\n",
    "            print(\"Загаданное число меньше\")\n",
    "\n",
    "    print(f\"Вы использовали все попытки! Загаданное число было: {number}.\")\n",
    "    again = input(\"Хотите сыграть еще раз? (да/нет): \")\n",
    "    if again.lower() == 'да':\n",
    "        guess_the_number()\n",
    "\n",
    "if __name__ == \"__main__\":\n",
    "    guess_the_number()\n"
   ]
  },
  {
   "cell_type": "markdown",
   "id": "b792d84a-e9e3-4ff2-a344-bdde490dcd7e",
   "metadata": {},
   "source": [
    "#### Задача 6. \n",
    "\n",
    "Правильные скобки. На вход подается строка, которая содержит только и исключительно скобки трех видов: круглые, квадратные и фигурные. Например, '{[([({})])]}'. Ваша задача - написать программу, которая бы проверяла правильность последовательности скобок и возвращала True или False. Примеры правильных и неправильных строк:\n",
    "\n",
    "    '[(])' = False\n",
    "    ')[](' = False\n",
    "    '{[()]}' = True"
   ]
  },
  {
   "cell_type": "code",
   "execution_count": null,
   "id": "64c2a9da-01bb-42a5-8e79-d1b5b1e0094c",
   "metadata": {},
   "outputs": [],
   "source": [
    "def is_valid(s: str) -> bool:\n",
    "    stack = []\n",
    "    bracket_map = {')': '(', ']': '[', '}': '{'}\n",
    "\n",
    "    for char in s:\n",
    "        if char in bracket_map.values():\n",
    "            stack.append(char)\n",
    "        elif char in bracket_map.keys():\n",
    "            if stack == [] or bracket_map[char] != stack.pop():\n",
    "                return False\n",
    "        else:\n",
    "            return False\n",
    "\n",
    "    return stack == []\n"
   ]
  },
  {
   "cell_type": "markdown",
   "id": "8d9c917a-1b96-43cc-9523-f12ee8bf13e2",
   "metadata": {},
   "source": [
    "#### Задача 7. \n",
    "\n",
    "Занудная: выведите с помощью цикла порядковые номера всех букв русского алфавита (ё можно отдельно), заглавных и строчных. Посмотрите, есть ли между ними что-нибудь. \n",
    "\n",
    "А для латинских?"
   ]
  },
  {
   "cell_type": "code",
   "execution_count": null,
   "id": "040d8f3f-2c20-4a21-b00f-a8547103be17",
   "metadata": {},
   "outputs": [],
   "source": [
    "# Русский алфавит\n",
    "rus_lower = 'абвгдеёжзийклмнопрстуфхцчшщъыьэюя'\n",
    "rus_upper = rus_lower.upper()\n",
    "\n",
    "print(\"Порядковые номера букв русского алфавита:\")\n",
    "for char in rus_lower + rus_upper:\n",
    "    print(f\"{char}: {ord(char)}\")"
   ]
  },
  {
   "cell_type": "code",
   "execution_count": null,
   "id": "2c1a892c",
   "metadata": {},
   "outputs": [],
   "source": [
    "# Латинский алфавит\n",
    "lat_lower = 'abcdefghijklmnopqrstuvwxyz'\n",
    "lat_upper = lat_lower.upper()\n",
    "\n",
    "print(\"\\nПорядковые номера букв латинского алфавита:\")\n",
    "for char in lat_lower + lat_upper:\n",
    "    print(f\"{char}: {ord(char)}\")\n"
   ]
  },
  {
   "cell_type": "markdown",
   "id": "281a8b4e-9e28-4467-a52e-61ca6c73597e",
   "metadata": {},
   "source": [
    "#### Задача 8. \n",
    "\n",
    "Шифр Цезаря: самый простой способ зашифровать текст - это сопоставить буквы алфавита со сдвигом, то есть, например, со сдвигом 2 - заменить все а на в, б на г, в на е и так далее. Подробнее есть в [Википедии](https://ru.wikipedia.org/wiki/%D0%A8%D0%B8%D1%84%D1%80_%D0%A6%D0%B5%D0%B7%D0%B0%D1%80%D1%8F), конечно же, а еще можно поиграться с ним [здесь](https://planetcalc.ru/1434/). Напишите программу, которая будет принимать строчку, зашифрованную таким шифром (с неизвестным сдвигом), и пытаться расшифровать ее. "
   ]
  },
  {
   "cell_type": "code",
   "execution_count": null,
   "id": "71ff4c19-941f-4037-9798-fdaf2feffb08",
   "metadata": {},
   "outputs": [],
   "source": [
    "def decrypt_ceasar_cipher(text, alphabet):\n",
    "    def shift_string(s, shift):\n",
    "        return ''.join([alphabet[(alphabet.index(c) - shift) % len(alphabet)] if c in alphabet else c for c in s])\n",
    "\n",
    "    for i in range(len(alphabet)):\n",
    "        print(shift_string(text, i))\n",
    "\n",
    "text_to_decrypt = input(\"Введите ШИФР: \")\n",
    "alphabet = 'абвгдеёжзийклмнопрстуфхцчшщъыьэюя' \n",
    "\n",
    "decrypt_ceasar_cipher(text_to_decrypt, alphabet)\n"
   ]
  }
 ],
 "metadata": {
  "kernelspec": {
   "display_name": "Python 3 (ipykernel)",
   "language": "python",
   "name": "python3"
  },
  "language_info": {
   "codemirror_mode": {
    "name": "ipython",
    "version": 3
   },
   "file_extension": ".py",
   "mimetype": "text/x-python",
   "name": "python",
   "nbconvert_exporter": "python",
   "pygments_lexer": "ipython3",
   "version": "3.9.2"
  }
 },
 "nbformat": 4,
 "nbformat_minor": 5
}
