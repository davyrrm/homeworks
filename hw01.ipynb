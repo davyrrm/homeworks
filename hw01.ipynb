{
 "cells": [
  {
   "cell_type": "markdown",
   "id": "f8f2ad4c-84c4-414a-9adc-bb948ff062b5",
   "metadata": {},
   "source": [
    "Главный домашний квест: зарегистрироваться на гитхабе, завести репозиторий под домашние задания и пригласить меня в коллабораторы. Постарайтесь научиться пользоваться командной строкой или коммитить через среду разработки! Заливать файлы через сайт -- уныло."
   ]
  },
  {
   "cell_type": "markdown",
   "id": "44d89619-7257-407b-af38-3d1a2230a76d",
   "metadata": {},
   "source": [
    "#### Задача 1. \n",
    "\n",
    "Дано трехзначное число. Найдите сумму его цифр."
   ]
  },
  {
   "cell_type": "code",
   "execution_count": null,
   "id": "bbdd572d-f43b-4e12-b32a-ff10c92f448c",
   "metadata": {},
   "outputs": [],
   "source": [
    "n = int(input())\n",
    "a = n // 100\n",
    "b = n // 10 % 10\n",
    "c = n % 10\n",
    "print(a + b + c)"
   ]
  },
  {
   "cell_type": "markdown",
   "id": "2622f3fc-a9cb-4392-99ae-a31dff5674b4",
   "metadata": {},
   "source": [
    "#### Задача 2.\n",
    "\n",
    "Процентная ставка по вкладу составляет P процентов годовых, которые прибавляются к сумме вклада. Вклад составляет X рублей Y копеек. Определите размер вклада через год.\n",
    "Программа получает на вход целые числа P, X, Y и должна вывести два числа: величину вклада через год в рублях и копейках. Дробная часть копеек отбрасывается."
   ]
  },
  {
   "cell_type": "code",
   "execution_count": null,
   "id": "22ad3819-b3a6-4046-b3e9-fe1b8373a956",
   "metadata": {},
   "outputs": [],
   "source": [
    "p = int(input())\n",
    "x = int(input())\n",
    "y = int(input())\n",
    "money_before = 100 * x + y\n",
    "money_after = int(money_before * (100 + p) / 100)\n",
    "print(money_after // 100, money_after % 100)"
   ]
  },
  {
   "cell_type": "markdown",
   "id": "a86607c1-be2d-42ec-bf21-f09d7a65295f",
   "metadata": {
    "tags": []
   },
   "source": [
    "#### Задача 3.\n",
    "\n",
    "Маша с математического факультета МГУ сильно заскучала, идя по улице. Она решила придумать себе такое развлечение:\n",
    "\n",
    "Если она видит машину, она проводит арифметические операции с ее номером. Так, если ее номер делится на 3, она возводит результат во 2-ю степень. Если ее номер не делится на 3, она целочисленно делит его на 5.\n",
    "\n",
    "Если Маша видит группу человек, она умножает количество людей на 8 и возвращает остаток от деления на 6.\n",
    "\n",
    "С помощью input() пользователь вводит либо целое трехзначное число (номер машины), либо однозначное или двузначное целое число (количество людей)."
   ]
  },
  {
   "cell_type": "code",
   "execution_count": null,
   "id": "1442849d-88e0-4687-9d90-06a7df5a7a2e",
   "metadata": {},
   "outputs": [],
   "source": [
    "user_input = input(\"Введите номер машины (трехзначное число) или количество людей (однозначное или двузначное число): \")\n",
    "\n",
    "number = int(user_input)\n",
    "\n",
    "if 100 <= number <= 999:\n",
    "    if number % 3 == 0:\n",
    "        result = number ** 2\n",
    "        print(f\"Результат: {result}\")\n",
    "    else:\n",
    "        result = number // 5\n",
    "        print(f\"Результат: {result}\")\n",
    "elif 1 <= number <= 99:\n",
    "    result = (number * 8) % 6\n",
    "    print(f\"Результат: {result}\")\n",
    "else:\n",
    "    print(\"Ошибка: Введите трехзначное число (номер машины) или однозначное/двузначное число (количество людей).\")\n"
   ]
  },
  {
   "cell_type": "markdown",
   "id": "b5c60b82-4650-43a6-849f-5d3dfa824eef",
   "metadata": {},
   "source": [
    "#### Задача 4.\n",
    "\n",
    "Числа Фибоначчи (простые). Вводится целое число: с помощью формулы выведите число Фибоначчи с этим номером. "
   ]
  },
  {
   "cell_type": "code",
   "execution_count": null,
   "id": "8d9bdcf8-208c-402d-b66e-1912dda40716",
   "metadata": {},
   "outputs": [],
   "source": [
    "import math\n",
    "\n",
    "def fibonacci_prime(n):\n",
    "    phi = (1 + math.sqrt(5)) / 2  \n",
    "    fib_n = (phi ** n - (-phi) ** (-n)) / math.sqrt(5)\n",
    "    return round(fib_n)\n",
    "\n",
    "n = int(input(\"Введите номер числа Фибоначчи: \"))\n",
    "\n",
    "if n < 0:\n",
    "    print(\"Номер должен быть неотрицательным.\")\n",
    "else:\n",
    "    result = fibonacci_prime(n)\n",
    "    print(f\"Число Фибоначчи с номером {n} равно {result}\")\n"
   ]
  },
  {
   "cell_type": "markdown",
   "id": "c7894552-3463-4643-af27-7de4e8a5a327",
   "metadata": {},
   "source": [
    "#### Задача 5.\n",
    "\n",
    "Напишите программу, которая на вход принимает число секунд и возвращает его в часах, минутах и секундах в формате HH:MM:SS. "
   ]
  },
  {
   "cell_type": "code",
   "execution_count": 2,
   "id": "98ff7e6b-5672-4ca6-8aa5-5333b555258b",
   "metadata": {},
   "outputs": [],
   "source": [
    "def seconds_to_hms(seconds):\n",
    "    hours = seconds // 3600\n",
    "    minutes = (seconds % 3600) // 60\n",
    "    remaining_seconds = seconds % 60\n",
    "    return f\"{hours:02d}:{minutes:02d}:{remaining_seconds:02d}\"\n",
    "\n",
    "seconds = int(input(\"Введите количество секунд: \"))\n",
    "\n",
    "if seconds < 0:\n",
    "    print(\"Количество секунд должно быть неотрицательным.\")\n",
    "else:\n",
    "    result = seconds_to_hms(seconds)\n",
    "    print(f\"Время в формате HH:MM:SS: {result}\")\n"
   ]
  }
 ],
 "metadata": {
  "kernelspec": {
   "display_name": "Python 3",
   "language": "python",
   "name": "python3"
  },
  "language_info": {
   "codemirror_mode": {
    "name": "ipython",
    "version": 3
   },
   "file_extension": ".py",
   "mimetype": "text/x-python",
   "name": "python",
   "nbconvert_exporter": "python",
   "pygments_lexer": "ipython3",
   "version": "3.9.2"
  }
 },
 "nbformat": 4,
 "nbformat_minor": 5
}
